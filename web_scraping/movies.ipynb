{
 "cells": [
  {
   "cell_type": "code",
   "execution_count": 9,
   "metadata": {},
   "outputs": [],
   "source": [
    "#!pip install networkx\n",
    "#!pip install requests\n",
    "#!pip install bs4\n",
    "#!pip install pandas"
   ]
  },
  {
   "cell_type": "code",
   "execution_count": 100,
   "metadata": {},
   "outputs": [],
   "source": [
    "import requests\n",
    "from bs4 import BeautifulSoup\n",
    "import pandas as pd\n",
    "import time\n",
    "from collections import defaultdict"
   ]
  },
  {
   "cell_type": "code",
   "execution_count": 101,
   "metadata": {},
   "outputs": [],
   "source": [
    "domain = \"https://marvelcinematicuniverse.fandom.com\"\n",
    "movie_url = \"https://marvelcinematicuniverse.fandom.com/wiki/Marvel_Cinematic_Universe_Wiki#Movies\""
   ]
  },
  {
   "cell_type": "code",
   "execution_count": 159,
   "metadata": {},
   "outputs": [],
   "source": [
    "import requests\n",
    "from bs4 import BeautifulSoup\n",
    "from collections import defaultdict\n",
    "import time\n",
    "from typing import List, Tuple, Dict\n",
    "\n",
    "class MovieScraper:\n",
    "    def __init__(self, movie_url, domain):\n",
    "        self.movie_url = movie_url\n",
    "        self.domain = domain\n",
    "\n",
    "    def scrape_mcu_movies(self) -> List[Tuple[str, str]]:\n",
    "        \"\"\"\n",
    "            Scrape all marvel movies and store as a list\n",
    "        \"\"\"\n",
    "        try:\n",
    "            response = requests.get(self.movie_url)\n",
    "            response.raise_for_status()  \n",
    "        except requests.exceptions.RequestException as e:\n",
    "            print(f\"Failed to fetch page: {e}\")\n",
    "            return None\n",
    "\n",
    "        movies = []\n",
    "        soup = BeautifulSoup(response.text, 'html.parser')\n",
    "        tabber_div = soup.find(\"div\", {\"class\": \"tabber\"})\n",
    "        sections = tabber_div.find_all('tr')\n",
    "        for section in sections:\n",
    "            phase_name = section.find('b')\n",
    "\n",
    "            links = section.find_all('a', href=True)  # ensure 'href' exists\n",
    "            for link in links:\n",
    "                if \"Phase\" not in link.text:\n",
    "                    movie_title = link.text.strip()\n",
    "                    movie_link = link['href']\n",
    "                    if movie_link.startswith(\"/\"):  # ensure relative links\n",
    "                        movie_link = f\"{self.domain}{movie_link}\"\n",
    "                    movies.append((movie_title, movie_link))\n",
    "            \n",
    "            if phase_name and phase_name.text.strip() == \"Unknown Phase\":\n",
    "                break\n",
    "\n",
    "        return movies\n",
    "\n",
    "    def get_character_info(self) -> Dict[str, List[Dict[str, str]]]:\n",
    "        \"\"\"\n",
    "            Get characters per movie\n",
    "        \"\"\"\n",
    "        movies = self.scrape_mcu_movies()\n",
    "        if not movies:\n",
    "            return None\n",
    "        \n",
    "        characters_dict = defaultdict(list)\n",
    "        for title, link in movies:\n",
    "            extended_link = f\"{link}/Portal\"\n",
    "            try:\n",
    "                response = requests.get(extended_link)\n",
    "                response.raise_for_status()\n",
    "            except requests.exceptions.RequestException as e:\n",
    "                print(f\"Failed to fetch character info for {title}: {e}\")\n",
    "                continue\n",
    "            \n",
    "            time.sleep(1) \n",
    "            soup = BeautifulSoup(response.text, 'html.parser')\n",
    "            content_element = soup.find(\"div\", {\"class\": \"page-content\"})\n",
    "            if not content_element:\n",
    "                continue\n",
    "\n",
    "            character_links = content_element.find_all(\"a\", href=True)\n",
    "            for character_link in character_links:\n",
    "                if (\n",
    "                    \"image\" not in character_link.get(\"class\", []) and\n",
    "                    \"lightbox\" not in character_link.get(\"class\", []) and\n",
    "                    not character_link.find(\"img\") and\n",
    "                    character_link.text != title\n",
    "                ):\n",
    "                    characters_dict[title].append({\n",
    "                        \"name\": character_link.text.strip(),\n",
    "                        \"href\": character_link['href']\n",
    "                    })\n",
    "\n",
    "        return characters_dict"
   ]
  },
  {
   "cell_type": "code",
   "execution_count": null,
   "metadata": {},
   "outputs": [],
   "source": [
    "movie_scraper = MovieScraper(movie_url=movie_url, domain=domain)\n",
    "characters_dict = movie_scraper.get_character_info()"
   ]
  },
  {
   "cell_type": "code",
   "execution_count": 162,
   "metadata": {},
   "outputs": [
    {
     "data": {
      "text/plain": [
       "[{'name': 'Bruce Banner/Hulk', 'href': '/wiki/Hulk'},\n",
       " {'name': 'Betty Ross', 'href': '/wiki/Betty_Ross'},\n",
       " {'name': 'Emil Blonsky/Abomination', 'href': '/wiki/Abomination'},\n",
       " {'name': 'Thaddeus Ross', 'href': '/wiki/Thaddeus_Ross'}]"
      ]
     },
     "execution_count": 162,
     "metadata": {},
     "output_type": "execute_result"
    }
   ],
   "source": [
    "characters_dict[\"The Incredible Hulk\"]"
   ]
  },
  {
   "cell_type": "code",
   "execution_count": 167,
   "metadata": {},
   "outputs": [
    {
     "data": {
      "text/plain": [
       "[{'name': 'Tony Stark/Iron Man', 'href': '/wiki/Iron_Man'},\n",
       " {'name': 'Obadiah Stane/Iron Monger', 'href': '/wiki/Iron_Monger'},\n",
       " {'name': 'Pepper Potts', 'href': '/wiki/Pepper_Potts'}]"
      ]
     },
     "execution_count": 167,
     "metadata": {},
     "output_type": "execute_result"
    }
   ],
   "source": [
    "characters_dict[\"Iron Man\"]"
   ]
  },
  {
   "cell_type": "code",
   "execution_count": 168,
   "metadata": {},
   "outputs": [
    {
     "data": {
      "text/plain": [
       "35"
      ]
     },
     "execution_count": 168,
     "metadata": {},
     "output_type": "execute_result"
    }
   ],
   "source": [
    "characters_dict.pop('', None)\n",
    "\n",
    "len(characters_dict.keys())"
   ]
  },
  {
   "cell_type": "code",
   "execution_count": 171,
   "metadata": {},
   "outputs": [],
   "source": [
    "import json\n",
    "with open(\"movie_characters_dict.json\", \"w\") as fp:\n",
    "    json.dump(characters_dict , fp) "
   ]
  }
 ],
 "metadata": {
  "kernelspec": {
   "display_name": "sg_env",
   "language": "python",
   "name": "python3"
  },
  "language_info": {
   "codemirror_mode": {
    "name": "ipython",
    "version": 3
   },
   "file_extension": ".py",
   "mimetype": "text/x-python",
   "name": "python",
   "nbconvert_exporter": "python",
   "pygments_lexer": "ipython3",
   "version": "3.10.15"
  }
 },
 "nbformat": 4,
 "nbformat_minor": 2
}
